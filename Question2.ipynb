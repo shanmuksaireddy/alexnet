{
 "cells": [
  {
   "cell_type": "code",
   "execution_count": 58,
   "metadata": {},
   "outputs": [],
   "source": [
    "import torch"
   ]
  },
  {
   "cell_type": "code",
   "execution_count": 59,
   "metadata": {},
   "outputs": [
    {
     "name": "stdout",
     "output_type": "stream",
     "text": [
      "2.1.2+cpu\n"
     ]
    }
   ],
   "source": [
    "print(torch.__version__)"
   ]
  },
  {
   "cell_type": "code",
   "execution_count": 60,
   "metadata": {},
   "outputs": [
    {
     "data": {
      "text/plain": [
       "False"
      ]
     },
     "execution_count": 60,
     "metadata": {},
     "output_type": "execute_result"
    }
   ],
   "source": [
    "torch.cuda.is_available()"
   ]
  },
  {
   "cell_type": "code",
   "execution_count": 61,
   "metadata": {},
   "outputs": [
    {
     "name": "stdout",
     "output_type": "stream",
     "text": [
      "cpu\n"
     ]
    }
   ],
   "source": [
    "device=torch.device('cuda' if torch.cuda.is_available() else 'cpu')\n",
    "print(device)\n",
    "\n",
    "if device.type=='cuda':\n",
    "    print(torch.cuda.get_device_name(0))"
   ]
  },
  {
   "cell_type": "code",
   "execution_count": 62,
   "metadata": {},
   "outputs": [
    {
     "data": {
      "text/plain": [
       "device(type='cpu')"
      ]
     },
     "execution_count": 62,
     "metadata": {},
     "output_type": "execute_result"
    }
   ],
   "source": [
    "CLASSES=10\n",
    "device=torch.device('cuda' if torch.cuda.is_available() else 'cpu')\n",
    "device"
   ]
  },
  {
   "cell_type": "code",
   "execution_count": 63,
   "metadata": {},
   "outputs": [],
   "source": [
    "import torch\n",
    "import torchvision\n",
    "import torchvision.datasets as datasets\n",
    "import torchvision.transforms as transforms\n",
    "import torch.optim as optim\n",
    "import torch.nn as nn\n",
    "import torch.nn.functional as F\n",
    "#import matplotlib.pyplot as plt\n",
    "import numpy as np"
   ]
  },
  {
   "cell_type": "code",
   "execution_count": 80,
   "metadata": {},
   "outputs": [],
   "source": [
    "class Net(nn.Module):\n",
    "    def __init__(self):\n",
    "        super().__init__()\n",
    "        self.conv1 = nn.Conv2d(in_channels=1,out_channels=96,kernel_size=11,stride=4,padding=0)\n",
    "        self.relu1 = nn.ReLU(inplace = True)\n",
    "        \n",
    "        self.conv2 = nn.Conv2d(in_channels=96,out_channels=96,kernel_size=1)\n",
    "        self.relu2 = nn.ReLU(inplace = True)\n",
    "\n",
    "        self.conv3 = nn.Conv2d(in_channels=96,out_channels=96,kernel_size=1)\n",
    "        self.relu3 = nn.ReLU(inplace = True)\n",
    "        self.pool3 = nn.MaxPool2d(kernel_size=3,stride=2)\n",
    "        self.dropout3 = nn.Dropout(0.5)\n",
    "\n",
    "        self.conv4 = nn.Conv2d(in_channels=96,out_channels=256,kernel_size=11,stride=4,padding=2)\n",
    "        self.relu4 = nn.ReLU(inplace = True)\n",
    "\n",
    "        self.conv5 = nn.Conv2d(in_channels=256,out_channels=256,kernel_size=1)\n",
    "        self.relu5 = nn.ReLU(inplace = True)\n",
    "\n",
    "        self.conv6 = nn.Conv2d(in_channels=256,out_channels=256,kernel_size=1)\n",
    "        self.relu6 = nn.ReLU(inplace = True)\n",
    "        self.pool6 = nn.MaxPool2d(kernel_size=3,stride=2)\n",
    "        self.dropout6 = nn.Dropout(0.5)\n",
    "\n",
    "        self.conv7 = nn.Conv2d(in_channels=256,out_channels=384,kernel_size=3,stride=1,padding=1)\n",
    "        self.relu7 = nn.ReLU(inplace = True)\n",
    "\n",
    "        self.conv8 = nn.Conv2d(in_channels=384,out_channels=384,kernel_size=1)\n",
    "        self.relu8 = nn.ReLU(inplace = True)\n",
    "\n",
    "        self.conv9 = nn.Conv2d(in_channels=384,out_channels=384,kernel_size=1)\n",
    "        self.relu9 = nn.ReLU(inplace = True)\n",
    "        self.dropout9 = nn.Dropout(0.5)\n",
    "\n",
    "        self.fc1 = nn.Linear(in_features=(384*2*2),out_features=4096)\n",
    "        self.relufc1 = nn.ReLU(inplace = True)\n",
    "        self.dropoutfc1 = nn.Dropout(0.5)\n",
    "        self.fc2 = nn.Linear(in_features=4096,out_features=4096)\n",
    "        self.relufc2 = nn.ReLU(inplace = True)\n",
    "        self.dropoutfc2 = nn.Dropout(0.5)\n",
    "        self.fc3 = nn.Linear(in_features=4096,out_features=CLASSES)\n",
    "        self.relufc3 = nn.ReLU(inplace = True)\n",
    "       \n",
    "\n",
    "        \n",
    "\n",
    "    def forward(self, x):\n",
    "        x = self.conv1(x)\n",
    "        x = self.relu1(x)\n",
    "\n",
    "        x = self.conv2(x)\n",
    "        x = self.relu2(x)\n",
    "\n",
    "        x = self.conv3(x)\n",
    "        x = self.relu3(x)\n",
    "        x = self.pool3(x)\n",
    "        x = self.dropout3(x)\n",
    "\n",
    "        x = self.conv4(x)\n",
    "        x = self.relu4(x)\n",
    "\n",
    "        x = self.conv5(x)\n",
    "        x = self.relu5(x)\n",
    "\n",
    "        x = self.conv6(x)\n",
    "        x = self.relu6(x)\n",
    "        x = self.pool6(x)\n",
    "        x = self.dropout6(x)\n",
    "\n",
    "        x = self.conv7(x)\n",
    "        x = self.relu7(x)\n",
    "\n",
    "        x = self.conv8(x)\n",
    "        x = self.relu8(x)\n",
    "\n",
    "        x = self.conv9(x)\n",
    "        x = self.relu9(x)\n",
    "        x = self.dropout9(x)\n",
    "        \n",
    "        \n",
    "\n",
    "        x = torch.flatten(x, 1) # flatten all dimensions except batch\n",
    "\n",
    "        x = self.fc1(x)\n",
    "        x = self.relufc1(x)\n",
    "        x = self.dropoutfc1(x)\n",
    "\n",
    "        x = self.fc2(x)\n",
    "        x = self.relufc2(x)\n",
    "        x = self.dropoutfc2(x)\n",
    "        \n",
    "        x = self.fc3(x)\n",
    "        x = self.relufc3(x)\n",
    "        \n",
    "        return x"
   ]
  },
  {
   "cell_type": "code",
   "execution_count": 81,
   "metadata": {},
   "outputs": [],
   "source": [
    "transform_conf=transforms.Compose([\n",
    "    transforms.Resize((224,224)),\n",
    "    transforms.ToTensor(),\n",
    "    transforms.Normalize((0.1307,),(0.3081,))\n",
    "])"
   ]
  },
  {
   "cell_type": "code",
   "execution_count": 82,
   "metadata": {},
   "outputs": [],
   "source": [
    "BATCH_SIZE=16\n",
    "train_dataset = datasets.MNIST('./mnist_data', train=True, download=True, transform=transform_conf)\n",
    "test_dataset = datasets.MNIST('./mnist_data', train=False, download=True, transform=transform_conf)\n"
   ]
  },
  {
   "cell_type": "code",
   "execution_count": 83,
   "metadata": {},
   "outputs": [],
   "source": [
    "train_loader=torch.utils.data.DataLoader(train_dataset,batch_size=BATCH_SIZE,shuffle=True)\n",
    "test_loader=torch.utils.data.DataLoader(test_dataset,batch_size=BATCH_SIZE,shuffle=True)"
   ]
  },
  {
   "cell_type": "code",
   "execution_count": 84,
   "metadata": {},
   "outputs": [],
   "source": [
    "model=Net().to(device)\n",
    "optimizer=optim.Adam(params=model.parameters(),lr=0.0001)\n",
    "loss_fn = nn.CrossEntropyLoss()"
   ]
  },
  {
   "cell_type": "code",
   "execution_count": 85,
   "metadata": {},
   "outputs": [],
   "source": [
    "def train(model,device,train_loader,optimizer,epochs):\n",
    "    print(\"inside train\")\n",
    "    model.train()\n",
    "    for batch_ids, (img, classes) in enumerate(train_loader):\n",
    "        classes=classes.type(torch.LongTensor)\n",
    "        img,classes=img.to(device),classes.to(device)\n",
    "        torch.autograd.set_detect_anomaly(True)     \n",
    "        optimizer.zero_grad()\n",
    "        output=model(img)\n",
    "        loss = loss_fn(output,classes)                \n",
    "        \n",
    "        loss.backward()\n",
    "        optimizer.step()\n",
    "    if(batch_ids +1) % 2 == 0:\n",
    "        print(\"Train Epoch: {} [{}/{} ({:.0f}%)]\\tLoss: {:.6f}\".format(\n",
    "            epochs, batch_ids* len(img), len(train_loader.dataset),\n",
    "            100.*batch_ids / len(train_loader),loss.item()))"
   ]
  },
  {
   "cell_type": "code",
   "execution_count": 86,
   "metadata": {},
   "outputs": [],
   "source": [
    "def test(model, device, test_loader):\n",
    "    model.eval()\n",
    "    test_loss=0\n",
    "    correct=0\n",
    "    with torch.no_grad():\n",
    "        for img,classes in test_loader:\n",
    "            img,classes=img.to(device), classes.to(device)\n",
    "            y_hat=model(img)\n",
    "            test_loss+=F.nll_loss(y_hat,classes,reduction='sum').item()\n",
    "            _,y_pred=torch.max(y_hat,1)\n",
    "            correct+=(y_pred==classes).sum().item()\n",
    "        test_loss/=len(test_dataset)\n",
    "        print(\"\\n Test set: Avarage loss: {:.0f},Accuracy:{}/{} ({:.0f}%)\\n\".format(\n",
    "            test_loss,correct,len(test_dataset),100.*correct/len(test_dataset)))\n",
    "        print('='*30)"
   ]
  },
  {
   "cell_type": "code",
   "execution_count": 87,
   "metadata": {},
   "outputs": [
    {
     "name": "stdout",
     "output_type": "stream",
     "text": [
      "inside train\n",
      "Train Epoch: 1 [59984/60000 (100%)]\tLoss: 2.302585\n",
      "\n",
      " Test set: Avarage loss: 0,Accuracy:980/10000 (10%)\n",
      "\n",
      "==============================\n",
      "inside train\n",
      "Train Epoch: 2 [59984/60000 (100%)]\tLoss: 2.302585\n",
      "\n",
      " Test set: Avarage loss: 0,Accuracy:980/10000 (10%)\n",
      "\n",
      "==============================\n"
     ]
    }
   ],
   "source": [
    "if __name__=='__main__':\n",
    "    seed=42\n",
    "    EPOCHS=2\n",
    "    \n",
    "    for epoch in range(1,EPOCHS+1):\n",
    "        train(model,device,train_loader,optimizer,epoch)\n",
    "        test(model,device,test_loader)"
   ]
  },
  {
   "cell_type": "code",
   "execution_count": null,
   "metadata": {},
   "outputs": [],
   "source": []
  }
 ],
 "metadata": {
  "kernelspec": {
   "display_name": "Python [conda env:env_siue] *",
   "language": "python",
   "name": "conda-env-env_siue-py"
  },
  "language_info": {
   "codemirror_mode": {
    "name": "ipython",
    "version": 3
   },
   "file_extension": ".py",
   "mimetype": "text/x-python",
   "name": "python",
   "nbconvert_exporter": "python",
   "pygments_lexer": "ipython3",
   "version": "3.9.18"
  },
  "orig_nbformat": 4
 },
 "nbformat": 4,
 "nbformat_minor": 2
}
